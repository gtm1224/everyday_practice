{
 "cells": [
  {
   "cell_type": "markdown",
   "metadata": {},
   "source": [
    "# 455 Assign Cookies(greedy)\n",
    "https://leetcode.com/problems/assign-cookies/\n",
    "\n"
   ]
  },
  {
   "cell_type": "code",
   "execution_count": 1,
   "metadata": {},
   "outputs": [],
   "source": [
    "class Solution(object):\n",
    "    def findContentChildren(self, g, s):\n",
    "        \"\"\"\n",
    "        :type g: List[int]\n",
    "        :type s: List[int]\n",
    "        :rtype: int\n",
    "        \"\"\"\n",
    "        g.sort()\n",
    "        s.sort()\n",
    "        cookie=0\n",
    "        child=0\n",
    "        while child<len(g) and cookie<len(s):\n",
    "            if g[child]<=s[cookie]:\n",
    "                child+=1\n",
    "            cookie+=1\n",
    "        \n",
    "        return child"
   ]
  },
  {
   "cell_type": "markdown",
   "metadata": {},
   "source": [
    "# 1 Two Sum(pointers or hashmap)\n",
    "https://leetcode.com/problems/two-sum/"
   ]
  },
  {
   "cell_type": "code",
   "execution_count": 6,
   "metadata": {},
   "outputs": [],
   "source": [
    "# uses pointers\n",
    "def twoSum(nums, target):\n",
    "        \"\"\"\n",
    "        :type nums: List[int]\n",
    "        :type target: int\n",
    "        :rtype: List[int]\n",
    "        \"\"\"\n",
    "        ptr1=0\n",
    "        while ptr1<len(nums)-1:\n",
    "            ptr2=ptr1+1\n",
    "            while ptr2<len(nums):\n",
    "                if nums[ptr1]+nums[ptr2]==target:\n",
    "                    return [ptr1,ptr2]\n",
    "                ptr2+=1\n",
    "            ptr1+=1\n",
    "            "
   ]
  },
  {
   "cell_type": "code",
   "execution_count": 7,
   "metadata": {},
   "outputs": [
    {
     "data": {
      "text/plain": [
       "[0, 1]"
      ]
     },
     "execution_count": 7,
     "metadata": {},
     "output_type": "execute_result"
    }
   ],
   "source": [
    "twoSum([2,7,11,15],9)"
   ]
  },
  {
   "cell_type": "code",
   "execution_count": 8,
   "metadata": {},
   "outputs": [],
   "source": [
    "class Solution(object):\n",
    "    def twoSum(self, nums, target):\n",
    "        dic ={}\n",
    "        for i,num in enumerate(nums):\n",
    "            result = target-num\n",
    "            if result in dic:\n",
    "                return [i,dic[result]]\n",
    "            else:\n",
    "                dic[num]=i"
   ]
  },
  {
   "cell_type": "code",
   "execution_count": 9,
   "metadata": {},
   "outputs": [
    {
     "data": {
      "text/plain": [
       "[1, 3]"
      ]
     },
     "execution_count": 9,
     "metadata": {},
     "output_type": "execute_result"
    }
   ],
   "source": [
    "twoSum([2,7,11,15],22)"
   ]
  },
  {
   "cell_type": "code",
   "execution_count": 10,
   "metadata": {},
   "outputs": [
    {
     "name": "stdout",
     "output_type": "stream",
     "text": [
      "0 2\n",
      "1 7\n",
      "2 11\n"
     ]
    }
   ],
   "source": [
    "for i,j in enumerate([2,7,11]):\n",
    "    print(i,j)\n",
    "    "
   ]
  },
  {
   "cell_type": "code",
   "execution_count": 11,
   "metadata": {},
   "outputs": [
    {
     "name": "stdout",
     "output_type": "stream",
     "text": [
      "{0: 12, 2: 111, 3: 10}\n"
     ]
    }
   ],
   "source": [
    "dic={}\n",
    "dic[0]=12\n",
    "dic[2]=111\n",
    "dic[3]=10\n",
    "print(dic)"
   ]
  },
  {
   "cell_type": "code",
   "execution_count": 33,
   "metadata": {},
   "outputs": [
    {
     "name": "stdout",
     "output_type": "stream",
     "text": [
      "10\n"
     ]
    }
   ],
   "source": [
    "if 3 in dic:\n",
    "    print(dic[3])"
   ]
  },
  {
   "cell_type": "markdown",
   "metadata": {},
   "source": [
    "# 695. Max Area of Island （search uses DFS)\n",
    "https://leetcode.com/problems/max-area-of-island/"
   ]
  },
  {
   "cell_type": "code",
   "execution_count": 12,
   "metadata": {},
   "outputs": [],
   "source": [
    "grid = [[0,0,1,0,0,0,0,1,0,0,0,0,0],[0,0,0,0,0,0,0,1,1,1,0,0,0],[0,1,1,0,1,0,0,0,0,0,0,0,0],[0,1,0,0,1,1,0,0,1,0,1,0,0],[0,1,0,0,1,1,0,0,1,1,1,0,0],[0,0,0,0,0,0,0,0,0,0,1,0,0],[0,0,0,0,0,0,0,1,1,1,0,0,0],[0,0,0,0,0,0,0,1,1,0,0,0,0]]"
   ]
  },
  {
   "cell_type": "code",
   "execution_count": 13,
   "metadata": {},
   "outputs": [],
   "source": [
    "class Solution:\n",
    "    def maxAreaOfIsland(self, grid):\n",
    "        m,n=len(grid),len(grid[0])\n",
    "        def dfs(i,j):\n",
    "            if (0<=i<m) and (0<=j<n) and grid[i][j]:\n",
    "                grid[i][j]=0\n",
    "                return 1+dfs(i+1,j)+dfs(i-1,j)+dfs(i,j+1)+dfs(i,j-1)\n",
    "            return 0\n",
    "            \n",
    "        \n",
    "        max_area = 0\n",
    "        for i in range(m):\n",
    "            for j in range(n):\n",
    "                if grid[i][j]:\n",
    "                    max_area=max(max_area,dfs(i,j))\n",
    "        return max_area\n",
    "        "
   ]
  },
  {
   "cell_type": "code",
   "execution_count": 14,
   "metadata": {},
   "outputs": [
    {
     "data": {
      "text/plain": [
       "6"
      ]
     },
     "execution_count": 14,
     "metadata": {},
     "output_type": "execute_result"
    }
   ],
   "source": [
    "sol = Solution()\n",
    "sol.maxAreaOfIsland(grid)"
   ]
  },
  {
   "cell_type": "code",
   "execution_count": 15,
   "metadata": {},
   "outputs": [
    {
     "name": "stdout",
     "output_type": "stream",
     "text": [
      "[10, 9, 8, 7, 6, 5, 4, 3, 2, 1]\n"
     ]
    }
   ],
   "source": [
    "l=[1,2,3,4,5,6,7,8,9,10]\n",
    "print(l[::-1])"
   ]
  },
  {
   "cell_type": "markdown",
   "metadata": {},
   "source": [
    "# 121. Best Time to Buy and Sell Stock (dynamic programming)\n",
    "https://leetcode.com/problems/best-time-to-buy-and-sell-stock/"
   ]
  },
  {
   "cell_type": "code",
   "execution_count": null,
   "metadata": {},
   "outputs": [],
   "source": [
    "class Solution(object):\n",
    "    def maxProfit(self, prices):\n",
    "        \"\"\"\n",
    "        :type prices: List[int]\n",
    "        :rtype: int\n",
    "        \"\"\"\n",
    "        profit=0\n",
    "        buy_price=float('-inf')\n",
    "        for price in prices:\n",
    "            buy_price=max(buy_price,-price)\n",
    "            profit=max(profit,buy_price+price)\n",
    "        return profit"
   ]
  },
  {
   "cell_type": "markdown",
   "metadata": {},
   "source": [
    "# 70. Climbing Stairs\n",
    "https://leetcode.com/problems/climbing-stairs/"
   ]
  },
  {
   "cell_type": "code",
   "execution_count": null,
   "metadata": {},
   "outputs": [],
   "source": [
    "class Solution(object):\n",
    "    def climbStairs(self, n):\n",
    "        \"\"\"\n",
    "        :type n: int\n",
    "        :rtype: int\n",
    "        \"\"\"\n",
    "        a,b=1,1\n",
    "        for i in range(n):\n",
    "            a,b=b,a+b\n",
    "        \n",
    "        return a"
   ]
  },
  {
   "cell_type": "code",
   "execution_count": null,
   "metadata": {},
   "outputs": [],
   "source": []
  },
  {
   "cell_type": "markdown",
   "metadata": {},
   "source": [
    "\n"
   ]
  },
  {
   "cell_type": "code",
   "execution_count": 16,
   "metadata": {},
   "outputs": [],
   "source": [
    "l1 = [2,4,3]\n",
    "l1=l1[::-1]"
   ]
  },
  {
   "cell_type": "code",
   "execution_count": 18,
   "metadata": {},
   "outputs": [
    {
     "name": "stdout",
     "output_type": "stream",
     "text": [
      "[3, 4, 2]\n"
     ]
    }
   ],
   "source": [
    "l1=str(l1)\n",
    "a=\"\".join(l1)\n",
    "print(a)"
   ]
  },
  {
   "cell_type": "code",
   "execution_count": 20,
   "metadata": {},
   "outputs": [
    {
     "ename": "NameError",
     "evalue": "name 'ListNode' is not defined",
     "output_type": "error",
     "traceback": [
      "\u001b[1;31m---------------------------------------------------------------------------\u001b[0m",
      "\u001b[1;31mNameError\u001b[0m                                 Traceback (most recent call last)",
      "\u001b[1;32m<ipython-input-20-1505367857cd>\u001b[0m in \u001b[0;36m<module>\u001b[1;34m\u001b[0m\n\u001b[1;32m----> 1\u001b[1;33m \u001b[0mListNode\u001b[0m\u001b[1;33m\u001b[0m\u001b[1;33m\u001b[0m\u001b[0m\n\u001b[0m",
      "\u001b[1;31mNameError\u001b[0m: name 'ListNode' is not defined"
     ]
    }
   ],
   "source": [
    "ListNode(0)"
   ]
  },
  {
   "cell_type": "code",
   "execution_count": 25,
   "metadata": {},
   "outputs": [
    {
     "name": "stdout",
     "output_type": "stream",
     "text": [
      "5\n"
     ]
    }
   ],
   "source": [
    "# 1,1,2,3,5,8\n",
    "def fib(n):\n",
    "    if n<=2:\n",
    "        return 1\n",
    "    return fib(n-1)+fib(n-2)\n",
    "\n",
    "print(fib(5))"
   ]
  },
  {
   "cell_type": "code",
   "execution_count": 27,
   "metadata": {},
   "outputs": [
    {
     "name": "stdout",
     "output_type": "stream",
     "text": [
      "[2, 4, 6, 8, 10]\n"
     ]
    }
   ],
   "source": [
    "l1=[2,3,4,5,6,7,8,9,10]\n",
    "print(l1[::2])"
   ]
  },
  {
   "cell_type": "code",
   "execution_count": 33,
   "metadata": {},
   "outputs": [
    {
     "data": {
      "text/plain": [
       "[4, 5, 6]"
      ]
     },
     "execution_count": 33,
     "metadata": {},
     "output_type": "execute_result"
    }
   ],
   "source": [
    "l1[2:5:]"
   ]
  },
  {
   "cell_type": "markdown",
   "metadata": {},
   "source": [
    "# 876. Middle of the Linked List\n",
    "https://leetcode.com/problems/middle-of-the-linked-list/"
   ]
  },
  {
   "cell_type": "code",
   "execution_count": 34,
   "metadata": {},
   "outputs": [],
   "source": [
    "# Definition for singly-linked list.\n",
    "# class ListNode(object):\n",
    "#     def __init__(self, val=0, next=None):\n",
    "#         self.val = val\n",
    "#         self.next = next\n",
    "class Solution(object):\n",
    "    def middleNode(self, head):\n",
    "        \"\"\"\n",
    "        :type head: ListNode\n",
    "        :rtype: ListNode\n",
    "        \"\"\"\n",
    "        fast = slow = head\n",
    "        while(fast):\n",
    "            fast = fast.next\n",
    "            if fast:\n",
    "                fast = fast.next\n",
    "            else:\n",
    "                break\n",
    "                \n",
    "            slow = slow.next\n",
    "            \n",
    "        \n",
    "        return slow"
   ]
  },
  {
   "cell_type": "code",
   "execution_count": 4,
   "metadata": {},
   "outputs": [],
   "source": [
    "A=\"ABCABCABC\""
   ]
  },
  {
   "cell_type": "code",
   "execution_count": 10,
   "metadata": {},
   "outputs": [
    {
     "data": {
      "text/plain": [
       "'AB'"
      ]
     },
     "execution_count": 10,
     "metadata": {},
     "output_type": "execute_result"
    }
   ],
   "source": [
    "A.count(\"ABC\")\n",
    "A[:2]"
   ]
  },
  {
   "cell_type": "code",
   "execution_count": 8,
   "metadata": {},
   "outputs": [
    {
     "data": {
      "text/plain": [
       "2"
      ]
     },
     "execution_count": 8,
     "metadata": {},
     "output_type": "execute_result"
    }
   ],
   "source": [
    "B=\"BBBB\"\n",
    "B.count(\"BB\")"
   ]
  },
  {
   "cell_type": "code",
   "execution_count": 17,
   "metadata": {},
   "outputs": [
    {
     "data": {
      "text/plain": [
       "'ABC'"
      ]
     },
     "execution_count": 17,
     "metadata": {},
     "output_type": "execute_result"
    }
   ],
   "source": [
    "A=\"ABCABCABCA\"\n",
    "A[0:0+3]"
   ]
  },
  {
   "cell_type": "code",
   "execution_count": 24,
   "metadata": {},
   "outputs": [],
   "source": [
    "l1 = [1, 5, 9]\n",
    "l2 = [2, 4, 6, 8]\n"
   ]
  },
  {
   "cell_type": "code",
   "execution_count": 25,
   "metadata": {},
   "outputs": [
    {
     "data": {
      "text/plain": [
       "[1, 2, 4, 5, 6, 8, 9]"
      ]
     },
     "execution_count": 25,
     "metadata": {},
     "output_type": "execute_result"
    }
   ],
   "source": [
    "l3=l1+l2\n",
    "sorted(l3)"
   ]
  },
  {
   "cell_type": "markdown",
   "metadata": {},
   "source": [
    "# 1668. Maximum Repeating Substring\n",
    "https://leetcode.com/problems/maximum-repeating-substring/"
   ]
  },
  {
   "cell_type": "code",
   "execution_count": null,
   "metadata": {},
   "outputs": [],
   "source": [
    "class Solution(object):\n",
    "    def maxRepeating(self, sequence, word):\n",
    "        \"\"\"\n",
    "        :type sequence: str\n",
    "        :type word: str\n",
    "        :rtype: int\n",
    "        \"\"\"\n",
    "        if len(word)>len(sequence):\n",
    "            return 0\n",
    "        k,max=1,0\n",
    "        while k*word in sequence:\n",
    "            max+=1\n",
    "            k+=1\n",
    "        return max"
   ]
  },
  {
   "cell_type": "code",
   "execution_count": 26,
   "metadata": {},
   "outputs": [],
   "source": [
    "A=\"abcab\""
   ]
  },
  {
   "cell_type": "code",
   "execution_count": 27,
   "metadata": {},
   "outputs": [
    {
     "data": {
      "text/plain": [
       "'abca'"
      ]
     },
     "execution_count": 27,
     "metadata": {},
     "output_type": "execute_result"
    }
   ],
   "source": [
    "A[:-1]"
   ]
  },
  {
   "cell_type": "code",
   "execution_count": 29,
   "metadata": {},
   "outputs": [
    {
     "data": {
      "text/plain": [
       "'bcababca'"
      ]
     },
     "execution_count": 29,
     "metadata": {},
     "output_type": "execute_result"
    }
   ],
   "source": [
    "A[1:]+A[:-1]"
   ]
  },
  {
   "cell_type": "code",
   "execution_count": 35,
   "metadata": {},
   "outputs": [],
   "source": [
    "a=1\n",
    "b=1\n",
    "assert a==b"
   ]
  },
  {
   "cell_type": "code",
   "execution_count": null,
   "metadata": {},
   "outputs": [],
   "source": []
  },
  {
   "cell_type": "code",
   "execution_count": 15,
   "metadata": {},
   "outputs": [],
   "source": [
    "def count_string(A,B):\n",
    "    la=len(A)\n",
    "    lb=len(B)\n",
    "    count=0\n",
    "    for i in range(la):\n",
    "        if A[i:lb+i]==B:\n",
    "            print(A[i:lb+i])\n",
    "            count +=1\n",
    "    return count\n",
    "    "
   ]
  },
  {
   "cell_type": "code",
   "execution_count": 3,
   "metadata": {},
   "outputs": [],
   "source": [
    "from collections import Counter\n",
    "import matplotlib.pyplot as plt"
   ]
  },
  {
   "cell_type": "code",
   "execution_count": 16,
   "metadata": {},
   "outputs": [
    {
     "name": "stdout",
     "output_type": "stream",
     "text": [
      "BB\n",
      "BB\n",
      "BB\n",
      "BB\n",
      "BB\n",
      "5\n",
      "ABC\n",
      "ABC\n",
      "ABC\n",
      "3\n"
     ]
    }
   ],
   "source": [
    "print(count_string(\"BBBBBB\",\"BB\"))\n",
    "print(count_string(\"ABCABCABC\",\"ABC\"))"
   ]
  },
  {
   "cell_type": "markdown",
   "metadata": {},
   "source": [
    "# 1015. Smallest Integer Divisible by K\n",
    "https://leetcode.com/problems/smallest-integer-divisible-by-k/"
   ]
  },
  {
   "cell_type": "code",
   "execution_count": 1,
   "metadata": {},
   "outputs": [],
   "source": [
    "class Solution(object):\n",
    "    def smallestRepunitDivByK(self, k):\n",
    "        \"\"\"\n",
    "        :type k: int\n",
    "        :rtype: int\n",
    "        \"\"\"\n",
    "        remainder=0\n",
    "        for length_N in range(1,k+1):\n",
    "            remainder=(remainder*10+1) % k\n",
    "            if remainder == 0:\n",
    "                return length_N\n",
    "        \n",
    "        return -1\n",
    "        "
   ]
  },
  {
   "cell_type": "markdown",
   "metadata": {},
   "source": [
    "# 1026. Maximum Difference Between Node and Ancestor\n",
    "https://leetcode.com/problems/maximum-difference-between-node-and-ancestor/"
   ]
  },
  {
   "cell_type": "code",
   "execution_count": null,
   "metadata": {},
   "outputs": [],
   "source": [
    "# Definition for a binary tree node.\n",
    "# class TreeNode(object):\n",
    "#     def __init__(self, val=0, left=None, right=None):\n",
    "#         self.val = val\n",
    "#         self.left = left\n",
    "#         self.right = right\n",
    "class Solution(object):\n",
    "    def maxAncestorDiff(self, root):\n",
    "        \"\"\"\n",
    "        :type root: TreeNode\n",
    "        :rtype: int\n",
    "        \"\"\"\n",
    "        if not root:\n",
    "            return 0\n",
    "        self.result=0\n",
    "        \n",
    "        def helper(node,cur_max,cur_min):\n",
    "            if not node:\n",
    "                return\n",
    "            self.result = max(self.result,abs(cur_max-node.val),abs(cur_min-node.val))\n",
    "            cur_max = max(cur_max,node.val)\n",
    "            cur_min = min(cur_min,node.val)\n",
    "            helper(node.left,cur_max,cur_min)\n",
    "            helper(node.right,cur_max,cur_min)\n",
    "        \n",
    "        helper(root,root.val,root.val)\n",
    "        return self.result\n",
    "            "
   ]
  },
  {
   "cell_type": "markdown",
   "metadata": {},
   "source": [
    "# Review of different sort algorithms"
   ]
  },
  {
   "cell_type": "code",
   "execution_count": 8,
   "metadata": {},
   "outputs": [],
   "source": [
    "# selection sort\n",
    "def select_sort(lists):\n",
    "    max_index=len(lists)\n",
    "    for i in range(max_index):\n",
    "        min_index = i #note: starts from 0, and compare the lists[min_index] to lists[min_index+1:]\n",
    "        # we compare in pairs,swap the large with the small\n",
    "        for j in range(i+1,max_index):\n",
    "            print(j)\n",
    "            if lists[min_index]>lists[j]:\n",
    "                min_index=j\n",
    "        if min_index != i:\n",
    "            lists[i],lists[min_index]=lists[min_index],lists[i]\n",
    "        print(lists)\n",
    "    return lists"
   ]
  },
  {
   "cell_type": "code",
   "execution_count": 9,
   "metadata": {},
   "outputs": [
    {
     "name": "stdout",
     "output_type": "stream",
     "text": [
      "1\n",
      "2\n",
      "3\n",
      "4\n",
      "5\n",
      "6\n",
      "[1, 10, 5, 2, 8, 7, 9]\n",
      "2\n",
      "3\n",
      "4\n",
      "5\n",
      "6\n",
      "[1, 2, 5, 10, 8, 7, 9]\n",
      "3\n",
      "4\n",
      "5\n",
      "6\n",
      "[1, 2, 5, 10, 8, 7, 9]\n",
      "4\n",
      "5\n",
      "6\n",
      "[1, 2, 5, 7, 8, 10, 9]\n",
      "5\n",
      "6\n",
      "[1, 2, 5, 7, 8, 10, 9]\n",
      "6\n",
      "[1, 2, 5, 7, 8, 9, 10]\n",
      "[1, 2, 5, 7, 8, 9, 10]\n",
      "[1, 2, 5, 7, 8, 9, 10]\n"
     ]
    }
   ],
   "source": [
    "print(select_sort([8,10,5,2,1,7,9]))"
   ]
  },
  {
   "cell_type": "code",
   "execution_count": 17,
   "metadata": {},
   "outputs": [],
   "source": [
    "# bubble sort\n",
    "def bubble_sort(lists):\n",
    "    max_index = len(lists)-1\n",
    "    for i in range(max_index):\n",
    "        for j in range(max_index-i):\n",
    "            print(j)\n",
    "            if lists[j]>lists[j+1]:\n",
    "                lists[j],lists[j+1]=lists[j+1],lists[j]\n",
    "            print(lists)\n",
    "    return lists\n",
    "            "
   ]
  },
  {
   "cell_type": "code",
   "execution_count": 18,
   "metadata": {},
   "outputs": [
    {
     "name": "stdout",
     "output_type": "stream",
     "text": [
      "0\n",
      "[8, 10, 5, 2, 1, 7, 9]\n",
      "1\n",
      "[8, 5, 10, 2, 1, 7, 9]\n",
      "2\n",
      "[8, 5, 2, 10, 1, 7, 9]\n",
      "3\n",
      "[8, 5, 2, 1, 10, 7, 9]\n",
      "4\n",
      "[8, 5, 2, 1, 7, 10, 9]\n",
      "5\n",
      "[8, 5, 2, 1, 7, 9, 10]\n",
      "0\n",
      "[5, 8, 2, 1, 7, 9, 10]\n",
      "1\n",
      "[5, 2, 8, 1, 7, 9, 10]\n",
      "2\n",
      "[5, 2, 1, 8, 7, 9, 10]\n",
      "3\n",
      "[5, 2, 1, 7, 8, 9, 10]\n",
      "4\n",
      "[5, 2, 1, 7, 8, 9, 10]\n",
      "0\n",
      "[2, 5, 1, 7, 8, 9, 10]\n",
      "1\n",
      "[2, 1, 5, 7, 8, 9, 10]\n",
      "2\n",
      "[2, 1, 5, 7, 8, 9, 10]\n",
      "3\n",
      "[2, 1, 5, 7, 8, 9, 10]\n",
      "0\n",
      "[1, 2, 5, 7, 8, 9, 10]\n",
      "1\n",
      "[1, 2, 5, 7, 8, 9, 10]\n",
      "2\n",
      "[1, 2, 5, 7, 8, 9, 10]\n",
      "0\n",
      "[1, 2, 5, 7, 8, 9, 10]\n",
      "1\n",
      "[1, 2, 5, 7, 8, 9, 10]\n",
      "0\n",
      "[1, 2, 5, 7, 8, 9, 10]\n",
      "[1, 2, 5, 7, 8, 9, 10]\n"
     ]
    }
   ],
   "source": [
    "print(bubble_sort([8,10,5,2,1,7,9]))"
   ]
  },
  {
   "cell_type": "code",
   "execution_count": 75,
   "metadata": {},
   "outputs": [],
   "source": [
    "# insertion sort\n",
    "def insert_sort(lists):\n",
    "    for i in range(1,len(lists)):\n",
    "        item_to_insert = lists[i]\n",
    "        for j in range(i-1,-2,-1):\n",
    "            if item_to_insert<lists[j]:\n",
    "                lists[j+1]=lists[j]\n",
    "            else:\n",
    "                break\n",
    "        lists[j+1] = item_to_insert\n",
    "    return lists\n"
   ]
  },
  {
   "cell_type": "code",
   "execution_count": 76,
   "metadata": {},
   "outputs": [
    {
     "name": "stdout",
     "output_type": "stream",
     "text": [
      "[1, 2, 5, 7, 8, 9, 10]\n"
     ]
    }
   ],
   "source": [
    "print(insert_sort([8,10,5,2,1,7,9]))"
   ]
  },
  {
   "cell_type": "code",
   "execution_count": null,
   "metadata": {},
   "outputs": [],
   "source": []
  },
  {
   "cell_type": "code",
   "execution_count": 82,
   "metadata": {},
   "outputs": [],
   "source": [
    "#mergesort\n",
    "def mergesort(lists):\n",
    "    if len(lists)<=1:\n",
    "        return lists\n",
    "    middle = len(lists)//2\n",
    "    left_list=[]\n",
    "    right_list=[]\n",
    "    for i in lists[:middle]:\n",
    "        if i<=lists[middle]:\n",
    "            left_list.append(i)\n",
    "        else:\n",
    "            right_list.append(i)\n",
    "    for i in lists[middle+1:]:\n",
    "        if i<=lists[middle]:\n",
    "            left_list.append(i)\n",
    "        else:\n",
    "            right_list.append(i)\n",
    "    print(left_list,right_list)\n",
    "    return mergesort(left_list)+[lists[middle]]+mergesort(right_list)\n",
    "\n",
    "\n"
   ]
  },
  {
   "cell_type": "code",
   "execution_count": 83,
   "metadata": {},
   "outputs": [
    {
     "name": "stdout",
     "output_type": "stream",
     "text": [
      "[20, 2, 19, 8, 24, 11, 33, 31, 6, 22, 29, 5, 32, 18, 9, 28, 16, 17, 7, 10, 23, 34, 13, 15, 12, 21, 4, 30, 3, 27, 14, 26, 1, 25]\n"
     ]
    }
   ],
   "source": [
    "lists = list(range(1,35))\n",
    "from random import shuffle\n",
    "shuffle(lists)\n",
    "print(lists)"
   ]
  },
  {
   "cell_type": "code",
   "execution_count": 84,
   "metadata": {},
   "outputs": [
    {
     "name": "stdout",
     "output_type": "stream",
     "text": [
      "[2, 8, 11, 6, 5, 9, 16, 7, 10, 13, 15, 12, 4, 3, 14, 1] [20, 19, 24, 33, 31, 22, 29, 32, 18, 28, 23, 34, 21, 30, 27, 26, 25]\n",
      "[2, 8, 6, 5, 9, 7, 4, 3, 1] [11, 16, 13, 15, 12, 14]\n",
      "[2, 8, 6, 5, 7, 4, 3, 1] []\n",
      "[2, 6, 5, 4, 3, 1] [8]\n",
      "[2, 3, 1] [6, 5]\n",
      "[2, 1] []\n",
      "[] [2]\n",
      "[] [6]\n",
      "[11, 13, 12, 14] [16]\n",
      "[11] [13, 14]\n",
      "[13] []\n",
      "[] [20, 19, 24, 33, 31, 22, 29, 32, 28, 23, 34, 21, 30, 27, 26, 25]\n",
      "[20, 19, 24, 22, 23, 21, 27, 26, 25] [33, 31, 29, 32, 34, 30]\n",
      "[20, 19, 22, 21] [24, 27, 26, 25]\n",
      "[20, 19, 21] []\n",
      "[] [20, 21]\n",
      "[20] []\n",
      "[24, 25] [27]\n",
      "[24] []\n",
      "[31, 29, 30] [33, 34]\n",
      "[] [31, 30]\n",
      "[] [31]\n",
      "[33] []\n"
     ]
    },
    {
     "data": {
      "text/plain": [
       "[1,\n",
       " 2,\n",
       " 3,\n",
       " 4,\n",
       " 5,\n",
       " 6,\n",
       " 7,\n",
       " 8,\n",
       " 9,\n",
       " 10,\n",
       " 11,\n",
       " 12,\n",
       " 13,\n",
       " 14,\n",
       " 15,\n",
       " 16,\n",
       " 17,\n",
       " 18,\n",
       " 19,\n",
       " 20,\n",
       " 21,\n",
       " 22,\n",
       " 23,\n",
       " 24,\n",
       " 25,\n",
       " 26,\n",
       " 27,\n",
       " 28,\n",
       " 29,\n",
       " 30,\n",
       " 31,\n",
       " 32,\n",
       " 33,\n",
       " 34]"
      ]
     },
     "execution_count": 84,
     "metadata": {},
     "output_type": "execute_result"
    }
   ],
   "source": [
    "mergesort(lists)"
   ]
  },
  {
   "cell_type": "code",
   "execution_count": 25,
   "metadata": {},
   "outputs": [],
   "source": [
    "# two sorted array\n",
    "def two_list(a,b,k):\n",
    "    c=sorted(a+b)\n",
    "    print(c)\n",
    "    return c[k-1]\n",
    "    "
   ]
  },
  {
   "cell_type": "code",
   "execution_count": 26,
   "metadata": {},
   "outputs": [
    {
     "name": "stdout",
     "output_type": "stream",
     "text": [
      "[1, 2, 3, 4, 5, 6, 8]\n",
      "3\n"
     ]
    }
   ],
   "source": [
    "l1 = [1, 3, 5]\n",
    "l2 = [2, 4, 6, 8]\n",
    "print(two_list(l1,l2,3))"
   ]
  },
  {
   "cell_type": "code",
   "execution_count": 71,
   "metadata": {},
   "outputs": [],
   "source": [
    "def two_list(a,b,k):\n",
    "    len_a = len(a)\n",
    "    print(len_a)\n",
    "    len_b = len(b)\n",
    "    print(len_b)\n",
    "    assert k<=(len_a+len_b),\"k cannot be greater than the entire length of a+b\"\n",
    "    assert len_a !=0 and len_b!=0,\"the two lists cannot be empty at the same time\"\n",
    "    sorted_list = [0]*(len_a+len_b)\n",
    "    print(sorted_list)\n",
    "    i=j=0\n",
    "    ptr=0\n",
    "    while(i<len_a and j < len_b):\n",
    "        if a[i]<=b[j]:\n",
    "            sorted_list[ptr]=a[i]\n",
    "            i+=1\n",
    "        else:\n",
    "            sorted_list[ptr]=b[j]\n",
    "            j+=1\n",
    "        ptr+=1\n",
    "    \n",
    "    while i<len_a:\n",
    "        sorted_list[ptr]=a[i]\n",
    "        i+=1\n",
    "        ptr+=1\n",
    "    while j<len_b:\n",
    "        sorted_list[ptr]=b[j]\n",
    "        j+=1\n",
    "        ptr+=1\n",
    "    print(sorted_list)\n",
    "    return sorted_list[k-1]\n",
    "    "
   ]
  },
  {
   "cell_type": "code",
   "execution_count": 72,
   "metadata": {},
   "outputs": [
    {
     "name": "stdout",
     "output_type": "stream",
     "text": [
      "3\n",
      "4\n",
      "[0, 0, 0, 0, 0, 0, 0]\n",
      "[1, 2, 3, 4, 5, 6, 8]\n"
     ]
    },
    {
     "data": {
      "text/plain": [
       "1"
      ]
     },
     "execution_count": 72,
     "metadata": {},
     "output_type": "execute_result"
    }
   ],
   "source": [
    "two_list(l1,l2,1)"
   ]
  },
  {
   "cell_type": "code",
   "execution_count": 73,
   "metadata": {},
   "outputs": [
    {
     "name": "stdout",
     "output_type": "stream",
     "text": [
      "5\n",
      "5\n",
      "[0, 0, 0, 0, 0, 0, 0, 0, 0, 0]\n",
      "[1, 2, 3, 4, 5, 6, 7, 8, 9, 10]\n"
     ]
    },
    {
     "data": {
      "text/plain": [
       "10"
      ]
     },
     "execution_count": 73,
     "metadata": {},
     "output_type": "execute_result"
    }
   ],
   "source": [
    "two_list([1,2,3,4,5],[6,7,8,9,10],10)"
   ]
  },
  {
   "cell_type": "code",
   "execution_count": 74,
   "metadata": {},
   "outputs": [
    {
     "name": "stdout",
     "output_type": "stream",
     "text": [
      "0\n",
      "0\n"
     ]
    },
    {
     "ename": "AssertionError",
     "evalue": "the two lists cannot be empty at the same time",
     "output_type": "error",
     "traceback": [
      "\u001b[1;31m---------------------------------------------------------------------------\u001b[0m",
      "\u001b[1;31mAssertionError\u001b[0m                            Traceback (most recent call last)",
      "\u001b[1;32m<ipython-input-74-6d0ea524ea10>\u001b[0m in \u001b[0;36m<module>\u001b[1;34m\u001b[0m\n\u001b[1;32m----> 1\u001b[1;33m \u001b[0mtwo_list\u001b[0m\u001b[1;33m(\u001b[0m\u001b[1;33m[\u001b[0m\u001b[1;33m]\u001b[0m\u001b[1;33m,\u001b[0m\u001b[1;33m[\u001b[0m\u001b[1;33m]\u001b[0m\u001b[1;33m,\u001b[0m\u001b[1;36m0\u001b[0m\u001b[1;33m)\u001b[0m\u001b[1;33m\u001b[0m\u001b[1;33m\u001b[0m\u001b[0m\n\u001b[0m",
      "\u001b[1;32m<ipython-input-71-e68b704795bd>\u001b[0m in \u001b[0;36mtwo_list\u001b[1;34m(a, b, k)\u001b[0m\n\u001b[0;32m      5\u001b[0m     \u001b[0mprint\u001b[0m\u001b[1;33m(\u001b[0m\u001b[0mlen_b\u001b[0m\u001b[1;33m)\u001b[0m\u001b[1;33m\u001b[0m\u001b[1;33m\u001b[0m\u001b[0m\n\u001b[0;32m      6\u001b[0m     \u001b[1;32massert\u001b[0m \u001b[0mk\u001b[0m\u001b[1;33m<=\u001b[0m\u001b[1;33m(\u001b[0m\u001b[0mlen_a\u001b[0m\u001b[1;33m+\u001b[0m\u001b[0mlen_b\u001b[0m\u001b[1;33m)\u001b[0m\u001b[1;33m,\u001b[0m\u001b[1;34m\"k cannot be greater than the entire length of a+b\"\u001b[0m\u001b[1;33m\u001b[0m\u001b[1;33m\u001b[0m\u001b[0m\n\u001b[1;32m----> 7\u001b[1;33m     \u001b[1;32massert\u001b[0m \u001b[0mlen_a\u001b[0m \u001b[1;33m!=\u001b[0m\u001b[1;36m0\u001b[0m \u001b[1;32mand\u001b[0m \u001b[0mlen_b\u001b[0m\u001b[1;33m!=\u001b[0m\u001b[1;36m0\u001b[0m\u001b[1;33m,\u001b[0m\u001b[1;34m\"the two lists cannot be empty at the same time\"\u001b[0m\u001b[1;33m\u001b[0m\u001b[1;33m\u001b[0m\u001b[0m\n\u001b[0m\u001b[0;32m      8\u001b[0m     \u001b[0msorted_list\u001b[0m \u001b[1;33m=\u001b[0m \u001b[1;33m[\u001b[0m\u001b[1;36m0\u001b[0m\u001b[1;33m]\u001b[0m\u001b[1;33m*\u001b[0m\u001b[1;33m(\u001b[0m\u001b[0mlen_a\u001b[0m\u001b[1;33m+\u001b[0m\u001b[0mlen_b\u001b[0m\u001b[1;33m)\u001b[0m\u001b[1;33m\u001b[0m\u001b[1;33m\u001b[0m\u001b[0m\n\u001b[0;32m      9\u001b[0m     \u001b[0mprint\u001b[0m\u001b[1;33m(\u001b[0m\u001b[0msorted_list\u001b[0m\u001b[1;33m)\u001b[0m\u001b[1;33m\u001b[0m\u001b[1;33m\u001b[0m\u001b[0m\n",
      "\u001b[1;31mAssertionError\u001b[0m: the two lists cannot be empty at the same time"
     ]
    }
   ],
   "source": [
    "two_list([],[],0)"
   ]
  },
  {
   "cell_type": "code",
   "execution_count": 64,
   "metadata": {},
   "outputs": [],
   "source": [
    "import unittest"
   ]
  },
  {
   "cell_type": "code",
   "execution_count": 62,
   "metadata": {},
   "outputs": [],
   "source": [
    "class test_two_lists(unittest.TestCase):\n",
    "    def test_twolists(self):\n",
    "        result = two_list(l1,l2,3)\n",
    "        print(self.assertEqual(result,3))\n",
    "    "
   ]
  },
  {
   "cell_type": "code",
   "execution_count": null,
   "metadata": {},
   "outputs": [],
   "source": [
    "while(i<len_a and j < len_b):\n",
    "        if a[i]<=b[j]:\n",
    "            sorted_list[ptr]=a[i]\n",
    "            i+=1\n",
    "        else:\n",
    "            sorted_list[ptr]=b[j]\n",
    "            j+=1\n",
    "        ptr+=1\n",
    "    \n",
    "    while i<len_a:\n",
    "        sorted_list[ptr]=a[i]\n",
    "        i+=1\n",
    "        ptr+=1\n",
    "    while j<len_b:\n",
    "        sorted_list[ptr]=b[j]\n",
    "        j+=1\n",
    "        ptr+=1\n",
    "    print(sorted_list)\n",
    "    return sorted_list[k-1]\n",
    "    "
   ]
  },
  {
   "cell_type": "code",
   "execution_count": 99,
   "metadata": {},
   "outputs": [],
   "source": [
    "def two_lists(a,b,k):\n",
    "    len_a=len(a)\n",
    "    len_b=len(b)\n",
    "    assert k<=(len_a+len_b),\"k must <=len_a+len_b\"\n",
    "    sorted_list=[]\n",
    "    aptr=bptr=0\n",
    "    while(aptr<len_a and bptr<len_b):\n",
    "        if a[aptr]<=b[bptr]:\n",
    "            print(\"aptr\",a[aptr])\n",
    "            sorted_list.append(a[aptr])\n",
    "            aptr+=1\n",
    "        else:\n",
    "            print(\"bptr\",b[bptr])\n",
    "            sorted_list.append(b[bptr])\n",
    "            bptr+=1\n",
    "            \n",
    "    print(\"a_Ptr:\",aptr)\n",
    "    print(\"b_ptr:\",bptr)\n",
    "    if aptr<len_a:\n",
    "        for element in a[aptr:]:\n",
    "            sorted_list.append(element)\n",
    "    \n",
    "    if bptr<len_b:\n",
    "        for element in b[bptr:]:\n",
    "            sorted_list.append(element)\n",
    "    print(sorted_list)\n",
    "    return sorted_list"
   ]
  },
  {
   "cell_type": "code",
   "execution_count": 104,
   "metadata": {},
   "outputs": [
    {
     "name": "stdout",
     "output_type": "stream",
     "text": [
      "aptr 1\n",
      "bptr 1\n",
      "bptr 2\n",
      "aptr 3\n",
      "bptr 4\n",
      "aptr 5\n",
      "bptr 6\n",
      "bptr 8\n",
      "aptr 9\n",
      "aptr 11\n",
      "a_Ptr: 5\n",
      "b_ptr: 5\n",
      "[1, 1, 2, 3, 4, 5, 6, 8, 9, 11, 15, 30]\n"
     ]
    },
    {
     "data": {
      "text/plain": [
       "[1, 1, 2, 3, 4, 5, 6, 8, 9, 11, 15, 30]"
      ]
     },
     "execution_count": 104,
     "metadata": {},
     "output_type": "execute_result"
    }
   ],
   "source": [
    "l1 = [1, 3, 5,9,11]\n",
    "l2 = [1,2, 4, 6, 8,15,30]\n",
    "two_lists(l1,l2,3)"
   ]
  },
  {
   "cell_type": "code",
   "execution_count": 7,
   "metadata": {},
   "outputs": [
    {
     "data": {
      "text/plain": [
       "3"
      ]
     },
     "execution_count": 7,
     "metadata": {},
     "output_type": "execute_result"
    }
   ],
   "source": [
    "a=5\n",
    "len(bin(5))\n",
    "b=bin(5)\n",
    "(1<<1)|1"
   ]
  },
  {
   "cell_type": "markdown",
   "metadata": {},
   "source": [
    "# 94. Binary Tree Inorder Traversal\n",
    "https://leetcode.com/problems/binary-tree-inorder-traversal/"
   ]
  },
  {
   "cell_type": "code",
   "execution_count": null,
   "metadata": {},
   "outputs": [],
   "source": [
    "# Definition for a binary tree node.\n",
    "# class TreeNode(object):\n",
    "#     def __init__(self, val=0, left=None, right=None):\n",
    "#         self.val = val\n",
    "#         self.left = left\n",
    "#         self.right = right\n",
    "class Solution(object):\n",
    "    def inorderTraversal(self, root):\n",
    "        \"\"\"\n",
    "        :type root: TreeNode\n",
    "        :rtype: List[int]\n",
    "        \"\"\"\n",
    "        return self.inorderTraversal(root.left)+[root.val]+self.inorderTraversal(root.right) if root else []"
   ]
  },
  {
   "cell_type": "code",
   "execution_count": 12,
   "metadata": {},
   "outputs": [
    {
     "name": "stdout",
     "output_type": "stream",
     "text": [
      "abab\n"
     ]
    }
   ],
   "source": [
    "s=\"babad\"\n",
    "temp=s[0:4]\n",
    "print(temp[::-1])"
   ]
  },
  {
   "cell_type": "code",
   "execution_count": 14,
   "metadata": {},
   "outputs": [],
   "source": [
    "# not a good solution, runs slow.\n",
    "def longestPalindrome(s):\n",
    "    \"\"\"\n",
    "    :type s: str\n",
    "    :rtype: str\n",
    "    \"\"\"\n",
    "    max_length=0\n",
    "    result=\"\"\n",
    "    if len(s)<2:\n",
    "        return s\n",
    "    if s==s[::-1]:\n",
    "        return s\n",
    "    len_s=len(s)\n",
    "    for i in range (len_s):\n",
    "        for j in range(i,len_s):\n",
    "            if s[i]==s[j]:\n",
    "                temp=s[i:j+1]\n",
    "                if s[i:j+1]==temp[::-1]:\n",
    "                    new_length=j-i+1\n",
    "                    if max_length < new_length:\n",
    "                        max_length=new_length\n",
    "                        result= s[i:j+1]\n",
    "    return result\n",
    "                        "
   ]
  },
  {
   "cell_type": "code",
   "execution_count": 15,
   "metadata": {},
   "outputs": [
    {
     "data": {
      "text/plain": [
       "'bab'"
      ]
     },
     "execution_count": 15,
     "metadata": {},
     "output_type": "execute_result"
    }
   ],
   "source": [
    "longestPalindrome(\"babad\")\n"
   ]
  },
  {
   "cell_type": "code",
   "execution_count": 16,
   "metadata": {},
   "outputs": [
    {
     "data": {
      "text/plain": [
       "'bb'"
      ]
     },
     "execution_count": 16,
     "metadata": {},
     "output_type": "execute_result"
    }
   ],
   "source": [
    "longestPalindrome(\"abb\")"
   ]
  },
  {
   "cell_type": "code",
   "execution_count": 17,
   "metadata": {},
   "outputs": [
    {
     "data": {
      "text/plain": [
       "'bcb'"
      ]
     },
     "execution_count": 17,
     "metadata": {},
     "output_type": "execute_result"
    }
   ],
   "source": [
    "longestPalindrome(\"eabcb\")"
   ]
  },
  {
   "cell_type": "code",
   "execution_count": 17,
   "metadata": {},
   "outputs": [],
   "source": [
    "def validPalindrome(s):\n",
    "        \"\"\"\n",
    "        :type s: str\n",
    "        :rtype: bool\n",
    "        \"\"\"\n",
    "        if not s:\n",
    "            return False\n",
    "        \n",
    "        len_s = len(s)\n",
    "        \n",
    "        if len_s==1:\n",
    "            return True\n",
    "        \n",
    "        mistake = 0\n",
    "        flag = True\n",
    "        if len_s % 2==0:\n",
    "            i=int(len_s/2-1)\n",
    "            j=int(len_s/2)\n",
    "        else:\n",
    "            i=j=int(len_s//2)\n",
    "        while (i>=0 and j<len_s):\n",
    "            \n",
    "            print(\"i\",i)\n",
    "            print(\"j\",j)\n",
    "            print(\"s[i]\",s[i])\n",
    "            print(\"s[j]\",s[j])\n",
    "            if(s[i]!=s[j]):\n",
    "                mistake+=1 \n",
    "                print(\"mistake:\",mistake)\n",
    "            if mistake>1:\n",
    "                return False\n",
    "            i-=1\n",
    "            j+=1\n",
    "        \n",
    "        return flag"
   ]
  },
  {
   "cell_type": "code",
   "execution_count": 20,
   "metadata": {},
   "outputs": [
    {
     "name": "stdout",
     "output_type": "stream",
     "text": [
      "i 1\n",
      "j 1\n",
      "s[i] b\n",
      "s[j] b\n",
      "i 0\n",
      "j 2\n",
      "s[i] a\n",
      "s[j] c\n",
      "mistake: 1\n"
     ]
    },
    {
     "data": {
      "text/plain": [
       "True"
      ]
     },
     "execution_count": 20,
     "metadata": {},
     "output_type": "execute_result"
    }
   ],
   "source": [
    "validPalindrome(\"abc\")"
   ]
  },
  {
   "cell_type": "markdown",
   "metadata": {},
   "source": [
    "# 695. Max Area of Island\n",
    "https://leetcode.com/problems/max-area-of-island/"
   ]
  },
  {
   "cell_type": "code",
   "execution_count": 1,
   "metadata": {},
   "outputs": [],
   "source": [
    "class Solution(object):\n",
    "    def maxAreaOfIsland(self, grid):\n",
    "        \"\"\"\n",
    "        :type grid: List[List[int]]\n",
    "        :rtype: int\n",
    "        \"\"\"\n",
    "        direction=[-1,0,1,0,-1]\n",
    "        local_area=max_area=0\n",
    "        rows=len(grid)\n",
    "        cols=len(grid[0])\n",
    "        for i in range(rows):\n",
    "            for j in range(cols):\n",
    "                if grid[i][j] == 1:\n",
    "                    local_area=1\n",
    "                    grid[i][j]=0\n",
    "                    stack=[]\n",
    "                    stack.append([i,j])\n",
    "                    while stack:\n",
    "                        r,c=stack.pop(-1)\n",
    "                        for l in range(4):\n",
    "                            x=r+direction[l]\n",
    "                            y=c+direction[l+1]\n",
    "                            if(x>=0 and y>=0 and x<rows and y<cols and grid[x][y]==1):\n",
    "                                grid[x][y]=0\n",
    "                                local_area+=1\n",
    "                                stack.append([x,y])\n",
    "                    max_area=max(max_area,local_area)\n",
    "        return max_area"
   ]
  },
  {
   "cell_type": "markdown",
   "metadata": {},
   "source": [
    "# 547. Number of Provinces\n",
    "https://leetcode.com/problems/number-of-provinces/"
   ]
  },
  {
   "cell_type": "code",
   "execution_count": 2,
   "metadata": {},
   "outputs": [],
   "source": [
    "class Solution(object):\n",
    "    def findCircleNum(self, isConnected):\n",
    "        \"\"\"\n",
    "        :type isConnected: List[List[int]]\n",
    "        :rtype: int\n",
    "        \"\"\"\n",
    "        n =len(isConnected)\n",
    "        visited = [False]*n\n",
    "        nums=0\n",
    "        def dfs(visited,isConnected,i):\n",
    "            visited[i]=True\n",
    "            for j in range(n):\n",
    "                if isConnected[i][j]==1 and not visited[j]:\n",
    "                    dfs(visited,isConnected,j)\n",
    "        \n",
    "        for i in range(n):\n",
    "            if not visited[i]:\n",
    "                dfs(visited,isConnected,i)\n",
    "                nums+=1\n",
    "        \n",
    "        return nums"
   ]
  },
  {
   "cell_type": "markdown",
   "metadata": {},
   "source": [
    "# 46. Permutations （backtracking）\n",
    "https://leetcode.com/problems/permutations/"
   ]
  },
  {
   "cell_type": "code",
   "execution_count": 1,
   "metadata": {},
   "outputs": [],
   "source": [
    "class Solution(object):\n",
    "    def permute(self, nums):\n",
    "        \"\"\"\n",
    "        :type nums: List[int]\n",
    "        :rtype: List[List[int]]\n",
    "        \"\"\"\n",
    "        \n",
    "        \n",
    "        def backtrack(first=0):\n",
    "            if first == len(nums):\n",
    "                result.append(nums[:])#important: nums[:] is a shallow copy of nums i.e. the nums modified not the original\n",
    "            \n",
    "            for i in range (first,len(nums)):\n",
    "                nums[first],nums[i]=nums[i],nums[first]\n",
    "                backtrack(first+1)\n",
    "                nums[first],nums[i]=nums[i],nums[first]\n",
    "       \n",
    "        result = []\n",
    "        backtrack()\n",
    "        return result"
   ]
  },
  {
   "cell_type": "code",
   "execution_count": 2,
   "metadata": {},
   "outputs": [],
   "source": [
    "# another way to solve the problem:\n",
    "class Solution(object):\n",
    "    def permute(self, nums):\n",
    "        \"\"\"\n",
    "        :type nums: List[int]\n",
    "        :rtype: List[List[int]]\n",
    "        \"\"\"\n",
    "        \n",
    "        def backtrack(nums,path):\n",
    "            if not nums:\n",
    "                result.append(path)\n",
    "            for x in range(len(nums)):\n",
    "                backtrack(nums[:x]+nums[x+1:],path+[nums[x]])\n",
    "        result=[]\n",
    "        backtrack(nums,[])\n",
    "        return result"
   ]
  },
  {
   "cell_type": "markdown",
   "metadata": {},
   "source": [
    "# 77. Combinations\n",
    "https://leetcode.com/problems/combinations/"
   ]
  },
  {
   "cell_type": "code",
   "execution_count": 3,
   "metadata": {},
   "outputs": [],
   "source": [
    "class Solution(object):\n",
    "    def combine(self, n, k):\n",
    "        \"\"\"\n",
    "        :type n: int\n",
    "        :type k: int\n",
    "        :rtype: List[List[int]]\n",
    "        \"\"\"\n",
    "    \n",
    "        result=[]\n",
    "        \n",
    "        def backtrack(first=1,comb=[]):\n",
    "            if len(comb)==k:\n",
    "                result.append(comb[:])\n",
    "            \n",
    "            for i in range(first,n+1):\n",
    "                comb.append(i)\n",
    "                backtrack(i+1,comb)\n",
    "                comb.pop()\n",
    "        \n",
    "        backtrack()\n",
    "        return result"
   ]
  },
  {
   "cell_type": "markdown",
   "metadata": {},
   "source": [
    "# 938. Range Sum of BST\n",
    "https://leetcode.com/problems/range-sum-of-bst/"
   ]
  },
  {
   "cell_type": "code",
   "execution_count": 1,
   "metadata": {},
   "outputs": [],
   "source": [
    "# iterative solution using DFS\n",
    "class Solution(object):\n",
    "    def rangeSumBST(self, root, low, high):\n",
    "        \"\"\"\n",
    "        :type root: TreeNode\n",
    "        :type low: int\n",
    "        :type high: int\n",
    "        :rtype: int\n",
    "        \"\"\"\n",
    "        stack=[root]\n",
    "        result=0\n",
    "        while stack:\n",
    "            node = stack.pop()\n",
    "            if node:\n",
    "                if low<=node.val<=high:\n",
    "                    result+=node.val\n",
    "                if low<node.val:\n",
    "                    stack.append(node.left)\n",
    "                if node.val<high:\n",
    "                    stack.append(node.right)\n",
    "                \n",
    "        return result"
   ]
  },
  {
   "cell_type": "code",
   "execution_count": 2,
   "metadata": {},
   "outputs": [],
   "source": [
    "# recursive solution\n",
    "class Solution(object):\n",
    "    def rangeSumBST(self, root, low, high):\n",
    "        \"\"\"\n",
    "        :type root: TreeNode\n",
    "        :type low: int\n",
    "        :type high: int\n",
    "        :rtype: int\n",
    "        \"\"\"\n",
    "        self.ans=0\n",
    "        def DFS(node,low,high):\n",
    "            if node:\n",
    "                if low<=node.val<=high:\n",
    "                    self.ans+=node.val\n",
    "                if node.val>low:\n",
    "                    DFS(node.left,low,high)\n",
    "                if node.val<high:\n",
    "                    DFS(node.right,low,high)\n",
    "            return\n",
    "            \n",
    "        DFS(root,low,high)\n",
    "        return self.ans"
   ]
  },
  {
   "cell_type": "markdown",
   "metadata": {},
   "source": [
    "# 1762. Buildings With an Ocean View\n",
    "https://leetcode.com/problems/buildings-with-an-ocean-view/"
   ]
  },
  {
   "cell_type": "code",
   "execution_count": 3,
   "metadata": {},
   "outputs": [],
   "source": [
    "# O(N) solution, monotonic stack\n",
    "class Solution(object):\n",
    "    def findBuildings(self, heights):\n",
    "        \"\"\"\n",
    "        :type heights: List[int]\n",
    "        :rtype: List[int]\n",
    "        \"\"\"\n",
    "        l = len(heights)\n",
    "        result=[]\n",
    "        for current in range(l):\n",
    "            while result and heights[current]>=heights[result[-1]]:\n",
    "                result.pop()\n",
    "            result.append(current)\n",
    "            \n",
    "        return result"
   ]
  },
  {
   "cell_type": "code",
   "execution_count": null,
   "metadata": {},
   "outputs": [],
   "source": []
  },
  {
   "cell_type": "code",
   "execution_count": 2,
   "metadata": {},
   "outputs": [],
   "source": [
    "# solution 2\n",
    "class Solution(object):\n",
    "    def findBuildings(self, heights):\n",
    "        \"\"\"\n",
    "        :type heights: List[int]\n",
    "        :rtype: List[int]\n",
    "        \"\"\"\n",
    "        l=len(heights)\n",
    "        result=[]\n",
    "        max_height=-1\n",
    "        \n",
    "        for current in reversed(range(l)):\n",
    "            if max_height<heights[current]:\n",
    "                result.append(current)\n",
    "                max_height = heights[current]\n",
    "        result.reverse()\n",
    "        return result"
   ]
  },
  {
   "cell_type": "code",
   "execution_count": 3,
   "metadata": {},
   "outputs": [],
   "source": [
    "s='assvdg'\n",
    "s=list(s)"
   ]
  },
  {
   "cell_type": "code",
   "execution_count": 4,
   "metadata": {},
   "outputs": [
    {
     "name": "stdout",
     "output_type": "stream",
     "text": [
      "['a', 's', 's', 'v', 'd', 'g']\n"
     ]
    }
   ],
   "source": [
    "print(s)"
   ]
  },
  {
   "cell_type": "markdown",
   "metadata": {},
   "source": [
    "# 1249. Minimum Remove to Make Valid Parentheses\n",
    "https://leetcode.com/problems/minimum-remove-to-make-valid-parentheses/"
   ]
  },
  {
   "cell_type": "code",
   "execution_count": 2,
   "metadata": {},
   "outputs": [],
   "source": [
    "class Solution(object):\n",
    "    def minRemoveToMakeValid(self, s):\n",
    "        \"\"\"\n",
    "        :type s: str\n",
    "        :rtype: str\n",
    "        \"\"\"\n",
    "        s=list(s)\n",
    "        stack=[]\n",
    "        for i,char in enumerate(s):\n",
    "            if char=='(':\n",
    "                stack.append(i)\n",
    "            elif char==')':\n",
    "                if stack:\n",
    "                    stack.pop()\n",
    "                else:\n",
    "                    s[i]=''\n",
    "        \n",
    "        while stack:\n",
    "            s[stack.pop()]=''\n",
    "        \n",
    "        return ''.join(s)"
   ]
  },
  {
   "cell_type": "markdown",
   "metadata": {},
   "source": [
    "# 50. Pow(x, n)\n",
    "https://leetcode.com/problems/powx-n/"
   ]
  },
  {
   "cell_type": "code",
   "execution_count": 3,
   "metadata": {},
   "outputs": [],
   "source": [
    "class Solution(object):\n",
    "    def myPow(self, x, n):\n",
    "        \"\"\"\n",
    "        :type x: float\n",
    "        :type n: int\n",
    "        :rtype: float\n",
    "        \"\"\"\n",
    "        if n==0:\n",
    "            return 1\n",
    "        if n==1:\n",
    "            return x\n",
    "        if n<0:\n",
    "            return 1/self.myPow(x,-n)\n",
    "        else:\n",
    "            half = self.myPow(x,n//2)\n",
    "            if n%2==0:\n",
    "                return half*half\n",
    "            else:\n",
    "                return half*x*half"
   ]
  },
  {
   "cell_type": "code",
   "execution_count": 6,
   "metadata": {},
   "outputs": [
    {
     "ename": "TypeError",
     "evalue": "sequence item 0: expected str instance, int found",
     "output_type": "error",
     "traceback": [
      "\u001b[1;31m---------------------------------------------------------------------------\u001b[0m",
      "\u001b[1;31mTypeError\u001b[0m                                 Traceback (most recent call last)",
      "\u001b[1;32m<ipython-input-6-1aa520cc97af>\u001b[0m in \u001b[0;36m<module>\u001b[1;34m\u001b[0m\n\u001b[1;32m----> 1\u001b[1;33m \u001b[1;34m''\u001b[0m\u001b[1;33m.\u001b[0m\u001b[0mjoin\u001b[0m\u001b[1;33m(\u001b[0m\u001b[1;33m[\u001b[0m\u001b[1;36m1\u001b[0m\u001b[1;33m,\u001b[0m\u001b[1;36m2\u001b[0m\u001b[1;33m]\u001b[0m\u001b[1;33m)\u001b[0m\u001b[1;33m\u001b[0m\u001b[1;33m\u001b[0m\u001b[0m\n\u001b[0m",
      "\u001b[1;31mTypeError\u001b[0m: sequence item 0: expected str instance, int found"
     ]
    }
   ],
   "source": [
    "''.join([1,2])"
   ]
  },
  {
   "cell_type": "code",
   "execution_count": 7,
   "metadata": {},
   "outputs": [
    {
     "data": {
      "text/plain": [
       "'abc'"
      ]
     },
     "execution_count": 7,
     "metadata": {},
     "output_type": "execute_result"
    }
   ],
   "source": [
    "''.join(['a','b','c'])"
   ]
  },
  {
   "cell_type": "code",
   "execution_count": 8,
   "metadata": {},
   "outputs": [],
   "source": [
    "class Solution(object):\n",
    "    def addStrings(self, num1, num2):\n",
    "        \"\"\"\n",
    "        :type num1: str\n",
    "        :type num2: str\n",
    "        :rtype: str\n",
    "        \"\"\"\n",
    "#1 2 3\n",
    "#  1 1\n",
    "        result=[]\n",
    "        carry=0\n",
    "        i1=len(num1)-1\n",
    "        i2=len(num2)-1\n",
    "        while i1>=0 or i2>=0:\n",
    "            if i1>=0:\n",
    "                var1=ord(num1[i1])-ord('0')\n",
    "            else:\n",
    "                var1=0\n",
    "            if i2>=0:\n",
    "                var2=ord(num2[i2])-ord('0')\n",
    "            else:\n",
    "                var2=0\n",
    "            value =(var1+var2+carry)%10\n",
    "            carry =(var1+var2+carry)//10\n",
    "            result.append(value)\n",
    "            i1-=1\n",
    "            i2-=1\n",
    "        if carry:\n",
    "            result.append(carry)\n",
    "        \n",
    "        return ''.join(str(x) for x in result[::-1])\n",
    "            "
   ]
  },
  {
   "cell_type": "code",
   "execution_count": null,
   "metadata": {},
   "outputs": [],
   "source": []
  }
 ],
 "metadata": {
  "kernelspec": {
   "display_name": "Python 3",
   "language": "python",
   "name": "python3"
  },
  "language_info": {
   "codemirror_mode": {
    "name": "ipython",
    "version": 3
   },
   "file_extension": ".py",
   "mimetype": "text/x-python",
   "name": "python",
   "nbconvert_exporter": "python",
   "pygments_lexer": "ipython3",
   "version": "3.7.3"
  }
 },
 "nbformat": 4,
 "nbformat_minor": 4
}
